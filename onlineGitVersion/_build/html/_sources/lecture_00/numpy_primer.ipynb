{
 "cells": [
  {
   "cell_type": "markdown",
   "id": "bcc26170",
   "metadata": {},
   "source": [
    "#Python Primer\n",
    "\n",
    "```{admonition} If you dont gets runing yet a local python\n",
    "installaton use the loaded book on google-colab at\n",
    "https://colab.research.google.com/github/epfml/OptML_course/blob/master/labs/ex01/template/numpy_primer.ipynb \n",
    "```\n",
    "\n",
    "**IMPORTANT** : Please have a look at `Help->User Interface Tour` and `Help->Keyboard Shortcuts` in the toolbar above that will help you get started."
   ]
  },
  {
   "cell_type": "code",
   "execution_count": 1,
   "id": "2555d35d",
   "metadata": {},
   "outputs": [],
   "source": [
    "# Useful starting lines\n",
    "import numpy as np\n",
    "import matplotlib.pyplot as plt\n",
    "\n",
    "%matplotlib inline\n",
    "%load_ext autoreload\n",
    "%autoreload 2"
   ]
  },
  {
   "cell_type": "code",
   "execution_count": 2,
   "id": "4c47bbc1",
   "metadata": {},
   "outputs": [
    {
     "name": "stdout",
     "output_type": "stream",
     "text": [
      "You are running Python 3. Good job :)\n"
     ]
    }
   ],
   "source": [
    "# Check the Python version\n",
    "import sys\n",
    "if sys.version.startswith(\"3.\"):\n",
    "  print(\"You are running Python 3. Good job :)\")\n",
    "else:\n",
    "  print(\"This notebook requires Python 3.\\nIf you are using Google Colab, go to Runtime > Change runtime type and choose Python 3.\")"
   ]
  },
  {
   "cell_type": "markdown",
   "id": "ea62d948",
   "metadata": {},
   "source": [
    "# Notebook Basics"
   ]
  },
  {
   "cell_type": "markdown",
   "id": "18a1aece",
   "metadata": {},
   "source": [
    "A cell contains any type of python inputs (expression, function definitions, etc...). Running a cell is equivalent to input this block in the python interpreter. The notebook will print the output of the last executed line."
   ]
  },
  {
   "cell_type": "code",
   "execution_count": 3,
   "id": "8308b796",
   "metadata": {},
   "outputs": [
    {
     "data": {
      "text/plain": [
       "1"
      ]
     },
     "execution_count": 3,
     "metadata": {},
     "output_type": "execute_result"
    }
   ],
   "source": [
    "1"
   ]
  },
  {
   "cell_type": "code",
   "execution_count": 4,
   "id": "b26c34a0",
   "metadata": {},
   "outputs": [],
   "source": [
    "x = [2,3,4]\n",
    "\n",
    "def my_function(l):\n",
    "    l.append(12)"
   ]
  },
  {
   "cell_type": "code",
   "execution_count": 5,
   "id": "a1813c11",
   "metadata": {},
   "outputs": [
    {
     "data": {
      "text/plain": [
       "[2, 3, 4, 12]"
      ]
     },
     "execution_count": 5,
     "metadata": {},
     "output_type": "execute_result"
    }
   ],
   "source": [
    "my_function(x)\n",
    "\n",
    "x"
   ]
  },
  {
   "cell_type": "code",
   "execution_count": 6,
   "id": "327e222c",
   "metadata": {},
   "outputs": [
    {
     "data": {
      "text/plain": [
       "Text(0, 0.5, 'Y label')"
      ]
     },
     "execution_count": 6,
     "metadata": {},
     "output_type": "execute_result"
    },
    {
     "data": {
      "image/png": "[encoded data removed]",
      "text/plain": [
       "<Figure size 432x288 with 1 Axes>"
      ]
     },
     "metadata": {
      "filenames": {
       "image/png": "/home/saul/Insync/saul.diazinfante@unison.mx/OneDriveBiz/UNISON/TeachingCourses/spring2022/OptimizationForML/OptimizationForML/_build/jupyter_execute/lecture_00/numpy_primer_8_1.png"
      },
      "needs_background": "light"
     },
     "output_type": "display_data"
    }
   ],
   "source": [
    "# Matplotlib is used for plotting, plots are directly embedded in the\n",
    "# notebook thanks to the '%matplolib inline' command at the beginning\n",
    "plt.hist(np.random.randn(10000), bins=40)\n",
    "plt.xlabel('X label')\n",
    "plt.ylabel('Y label')"
   ]
  },
  {
   "cell_type": "markdown",
   "id": "ec05cf57",
   "metadata": {},
   "source": [
    "Numpy Basics\n",
    "============"
   ]
  },
  {
   "cell_type": "markdown",
   "id": "3e855022",
   "metadata": {},
   "source": [
    "**IMPORTANT** : the numpy documentation is quite good. The Notebook system is really good to help you. Use the Auto-Completion with `Tab`, and use `Shift+Tab` to get the complete documentation about the current function (when the cursor is between the parenthesis of the function for instance).\n",
    "\n",
    "For example, you want to multiply two arrays. `np.mul` + `Tab` complete to the only valid function `np.multiply`. Then using `Shift+Tab` you learn `np.multiply` is actually the element-wise multiplication and is equivalent to the `*` operator."
   ]
  },
  {
   "cell_type": "code",
   "execution_count": 7,
   "id": "cc2aefe2",
   "metadata": {},
   "outputs": [
    {
     "data": {
      "text/plain": [
       "<ufunc 'multiply'>"
      ]
     },
     "execution_count": 7,
     "metadata": {},
     "output_type": "execute_result"
    }
   ],
   "source": [
    "np.multiply"
   ]
  },
  {
   "cell_type": "markdown",
   "id": "0053a638",
   "metadata": {},
   "source": [
    "### Creation of arrays\n",
    "\n",
    "Creating ndarrays (`np.zeros`, `np.ones`) is done by giving the shape as an iterable (List or Tuple). An integer is also accepted for one-dimensional array.\n",
    "\n",
    "`np.eye` creates an identity matrix.\n",
    "\n",
    "You can also create an array by giving iterables to it.\n",
    "\n",
    "(NB : The random functions `np.random.rand` and `np.random.randn` are exceptions though)"
   ]
  },
  {
   "cell_type": "code",
   "execution_count": 8,
   "id": "a79e661e",
   "metadata": {},
   "outputs": [
    {
     "data": {
      "text/plain": [
       "array([0., 0., 0., 0.])"
      ]
     },
     "execution_count": 8,
     "metadata": {},
     "output_type": "execute_result"
    }
   ],
   "source": [
    "np.zeros(4)"
   ]
  },
  {
   "cell_type": "code",
   "execution_count": 9,
   "id": "2d804076",
   "metadata": {},
   "outputs": [
    {
     "data": {
      "text/plain": [
       "array([[1., 0., 0.],\n",
       "       [0., 1., 0.],\n",
       "       [0., 0., 1.]])"
      ]
     },
     "execution_count": 9,
     "metadata": {},
     "output_type": "execute_result"
    }
   ],
   "source": [
    "np.eye(3)"
   ]
  },
  {
   "cell_type": "code",
   "execution_count": 10,
   "id": "91b734d0",
   "metadata": {},
   "outputs": [
    {
     "data": {
      "text/plain": [
       "array([[1, 3, 4],\n",
       "       [2, 5, 6]])"
      ]
     },
     "execution_count": 10,
     "metadata": {},
     "output_type": "execute_result"
    }
   ],
   "source": [
    "np.array([[1,3,4],[2,5,6]])"
   ]
  },
  {
   "cell_type": "code",
   "execution_count": 11,
   "id": "0058b0a8",
   "metadata": {},
   "outputs": [
    {
     "data": {
      "text/plain": [
       "array([0, 1, 2, 3, 4, 5, 6, 7, 8, 9])"
      ]
     },
     "execution_count": 11,
     "metadata": {},
     "output_type": "execute_result"
    }
   ],
   "source": [
    "np.arange(10)  # NB : np.array(range(10)) is a slightly more complicated equivalent"
   ]
  },
  {
   "cell_type": "code",
   "execution_count": 12,
   "id": "6eed4d1f",
   "metadata": {},
   "outputs": [
    {
     "data": {
      "text/plain": [
       "array([[ 0.59531195, -1.82805981,  0.87248288, -0.61165564],\n",
       "       [-0.10065381, -0.40878934,  0.3588234 , -0.43098824],\n",
       "       [-0.8823436 ,  0.46732811,  0.00273159,  1.1159268 ]])"
      ]
     },
     "execution_count": 12,
     "metadata": {},
     "output_type": "execute_result"
    }
   ],
   "source": [
    "np.random.randn(3, 4) # normal distributed values"
   ]
  },
  {
   "cell_type": "code",
   "execution_count": 13,
   "id": "9e795277",
   "metadata": {},
   "outputs": [
    {
     "data": {
      "text/plain": [
       "array([[[1., 1.],\n",
       "        [1., 1.],\n",
       "        [1., 1.],\n",
       "        [1., 1.]],\n",
       "\n",
       "       [[1., 1.],\n",
       "        [1., 1.],\n",
       "        [1., 1.],\n",
       "        [1., 1.]]])"
      ]
     },
     "execution_count": 13,
     "metadata": {},
     "output_type": "execute_result"
    }
   ],
   "source": [
    "# 3-D tensor\n",
    "tensor_3 = np.ones((2, 4, 2))\n",
    "tensor_3"
   ]
  },
  {
   "cell_type": "markdown",
   "id": "6de8a547",
   "metadata": {},
   "source": [
    "### ndarray basics\n",
    "\n",
    "A ndarray python object is just a reference to the data location and its characteristics.\n",
    "\n",
    "All numpy operations applying on an array can be called np._function_(a) or a._function_() (i.e `np.sum(a)` or `a.sum()`)\n",
    "\n",
    "It has an attribute `shape` that returns a tuple of the different dimensions of the ndarray. It also has an attribute `dtype` that describes the type of data of the object (default type is `float64`)\n",
    "\n",
    "**WARNING** because of the object structure, unless you call `copy()` copying the reference is not copying the data."
   ]
  },
  {
   "cell_type": "code",
   "execution_count": 14,
   "id": "a5223310",
   "metadata": {},
   "outputs": [
    {
     "data": {
      "text/plain": [
       "((2, 4, 2), dtype('float64'))"
      ]
     },
     "execution_count": 14,
     "metadata": {},
     "output_type": "execute_result"
    }
   ],
   "source": [
    "tensor_3.shape, tensor_3.dtype"
   ]
  },
  {
   "cell_type": "code",
   "execution_count": 15,
   "id": "8091c761",
   "metadata": {},
   "outputs": [
    {
     "data": {
      "text/plain": [
       "(dtype('int64'), dtype('float64'))"
      ]
     },
     "execution_count": 15,
     "metadata": {},
     "output_type": "execute_result"
    }
   ],
   "source": [
    "a = np.array([[1.0, 2.0], [5.0, 4.0]])\n",
    "b = np.array([[4, 3], [2, 1]])\n",
    "(b.dtype, a.dtype) # each array has a data type (casting rules apply for int -> float)"
   ]
  },
  {
   "cell_type": "code",
   "execution_count": 16,
   "id": "b29db3e5",
   "metadata": {},
   "outputs": [
    {
     "data": {
      "text/plain": [
       "array(['Mickey', 'Mouse'], dtype='<U6')"
      ]
     },
     "execution_count": 16,
     "metadata": {},
     "output_type": "execute_result"
    }
   ],
   "source": [
    "np.array([\"Mickey\", \"Mouse\"]) # can hold more than just numbers"
   ]
  },
  {
   "cell_type": "code",
   "execution_count": 17,
   "id": "6f415a1d",
   "metadata": {},
   "outputs": [
    {
     "data": {
      "text/plain": [
       "array([[3., 2.],\n",
       "       [5., 4.]])"
      ]
     },
     "execution_count": 17,
     "metadata": {},
     "output_type": "execute_result"
    }
   ],
   "source": [
    "a = np.array([[1.0, 2.0], [5.0, 4.0]])\n",
    "b = a  # Copying the reference only\n",
    "b[0,0] = 3\n",
    "a"
   ]
  },
  {
   "cell_type": "code",
   "execution_count": 18,
   "id": "56f464f4",
   "metadata": {},
   "outputs": [
    {
     "data": {
      "text/plain": [
       "array([[1., 2.],\n",
       "       [5., 4.]])"
      ]
     },
     "execution_count": 18,
     "metadata": {},
     "output_type": "execute_result"
    }
   ],
   "source": [
    "a = np.array([[1.0, 2.0], [5.0, 4.0]])\n",
    "b = a.copy()  # Deep-copy of the data\n",
    "b[0,0] = 3\n",
    "a"
   ]
  },
  {
   "cell_type": "markdown",
   "id": "2bc4d685",
   "metadata": {},
   "source": [
    "#### Basic operators are working element-wise (+, -, *, /)\n",
    "\n",
    "When trying to apply operators for arrays with different sizes, they are very specific rules that you might want to understand in the future : http://docs.scipy.org/doc/numpy/user/basics.broadcasting.html"
   ]
  },
  {
   "cell_type": "code",
   "execution_count": 19,
   "id": "3c56078e",
   "metadata": {},
   "outputs": [
    {
     "data": {
      "text/plain": [
       "array([[-2.44695684, -0.22215677, -0.15626704,  0.04041908],\n",
       "       [ 1.16023805, -0.49416683,  0.01903186,  1.37402133]])"
      ]
     },
     "execution_count": 19,
     "metadata": {},
     "output_type": "execute_result"
    }
   ],
   "source": [
    "np.ones((2, 4)) * np.random.randn(2, 4)"
   ]
  },
  {
   "cell_type": "code",
   "execution_count": 20,
   "id": "918ae623",
   "metadata": {},
   "outputs": [
    {
     "data": {
      "text/plain": [
       "array([[ 0., -1., -1.],\n",
       "       [-1.,  0., -1.],\n",
       "       [-1., -1.,  0.]])"
      ]
     },
     "execution_count": 20,
     "metadata": {},
     "output_type": "execute_result"
    }
   ],
   "source": [
    "np.eye(3) - np.ones((3,3))"
   ]
  },
  {
   "cell_type": "code",
   "execution_count": 21,
   "id": "bc1505f2",
   "metadata": {},
   "outputs": [
    {
     "name": "stdout",
     "output_type": "stream",
     "text": [
      "[[1. 2.]\n",
      " [5. 4.]]\n",
      "(2, 2)\n",
      "2\n"
     ]
    }
   ],
   "source": [
    "print(a)\n",
    "print(a.shape)  # Get shape\n",
    "print(a.shape[0])  # Get size of first dimension"
   ]
  },
  {
   "cell_type": "markdown",
   "id": "7a2db59a",
   "metadata": {},
   "source": [
    "#### Accessing elements and slicing\n",
    "\n",
    "For people uncomfortable with the slicing of arrays, please have a look at the 'Indexing and Slicing' section of http://www.python-course.eu/numpy.php"
   ]
  },
  {
   "cell_type": "code",
   "execution_count": 22,
   "id": "784ce384",
   "metadata": {},
   "outputs": [
    {
     "name": "stdout",
     "output_type": "stream",
     "text": [
      "[1. 2.]\n",
      "[2. 4.]\n",
      "2.0\n"
     ]
    }
   ],
   "source": [
    "print(a[0])  # Get first line (slice for the first dimension)\n",
    "print(a[:, 1])  # Get second column (slice for the second dimension)\n",
    "print(a[0, 1])  # Get first line second column element"
   ]
  },
  {
   "cell_type": "markdown",
   "id": "32b24cf9",
   "metadata": {},
   "source": [
    "#### Changing the shape of arrays\n",
    "\n",
    "`ravel` creates a flattened view of an array (1-D representation) whereas `flatten` creates flattened copy of the array.\n",
    "\n",
    "`reshape` allows in-place modification of the shape of the data. `transpose` shuffles the dimensions.\n",
    "\n",
    "`np.newaxis` allows the creation of empty dimensions."
   ]
  },
  {
   "cell_type": "code",
   "execution_count": 23,
   "id": "88f2a05c",
   "metadata": {},
   "outputs": [],
   "source": [
    "a = np.array([[1.0, 2.0], [5.0, 4.0]])\n",
    "b = np.array([[4, 3], [2, 1]])\n",
    "v = np.array([0.5, 2.0])"
   ]
  },
  {
   "cell_type": "code",
   "execution_count": 24,
   "id": "e6c418f2",
   "metadata": {},
   "outputs": [
    {
     "name": "stdout",
     "output_type": "stream",
     "text": [
      "[[1. 2.]\n",
      " [5. 4.]]\n",
      "[[1. 5.]\n",
      " [2. 4.]]\n",
      "[1. 2. 5. 4.]\n"
     ]
    }
   ],
   "source": [
    "print(a)\n",
    "print(a.T)  # Equivalent : a.tranpose(), np.transpose(a)\n",
    "print(a.ravel())"
   ]
  },
  {
   "cell_type": "code",
   "execution_count": 25,
   "id": "8f79df9d",
   "metadata": {},
   "outputs": [
    {
     "name": "stdout",
     "output_type": "stream",
     "text": [
      "(4, 5)\n",
      "(1, 4, 5)\n",
      "(5, 4)\n",
      "(10, 2)\n",
      "[[ 0.26108492  1.60617833 -0.43948157 -0.03751053 -2.27968608]\n",
      " [ 1.04974263 -1.54725986 -0.64557515  0.48247509  0.29695069]\n",
      " [ 0.73788233  0.34052361 -1.12140719  1.62727967 -1.2239915 ]\n",
      " [ 0.20979362  1.05988045  0.79328175 -1.59750943  0.07139983]]\n",
      "[[ 0.26108492  1.60617833]\n",
      " [-0.43948157 -0.03751053]\n",
      " [-2.27968608  1.04974263]\n",
      " [-1.54725986 -0.64557515]\n",
      " [ 0.48247509  0.29695069]\n",
      " [ 0.73788233  0.34052361]\n",
      " [-1.12140719  1.62727967]\n",
      " [-1.2239915   0.20979362]\n",
      " [ 1.05988045  0.79328175]\n",
      " [-1.59750943  0.07139983]]\n"
     ]
    }
   ],
   "source": [
    "c = np.random.randn(4,5)\n",
    "print(c.shape)\n",
    "print(c[np.newaxis].shape)  # Adding a dimension\n",
    "print(c.T.shape)  \n",
    "print(c.reshape([10,2]).shape)\n",
    "print(c)\n",
    "print(c.reshape([10,2]))"
   ]
  },
  {
   "cell_type": "code",
   "execution_count": 26,
   "id": "d452fbc9",
   "metadata": {},
   "outputs": [
    {
     "data": {
      "text/plain": [
       "array([[1.],\n",
       "       [2.],\n",
       "       [5.],\n",
       "       [4.]])"
      ]
     },
     "execution_count": 26,
     "metadata": {},
     "output_type": "execute_result"
    }
   ],
   "source": [
    "a.reshape((-1, 1)) # a[-1] means 'whatever needs to go there'"
   ]
  },
  {
   "cell_type": "markdown",
   "id": "9befcf24",
   "metadata": {},
   "source": [
    "#### Reduction operations\n",
    "\n",
    "Reduction operations (`np.sum`, `np.max`, `np.min`, `np.std`) work on the flattened ndarray by default. You can specify the reduction axis as an argument"
   ]
  },
  {
   "cell_type": "code",
   "execution_count": 27,
   "id": "9e8025d5",
   "metadata": {},
   "outputs": [
    {
     "data": {
      "text/plain": [
       "(12.0, array([6., 6.]), array([3., 9.]))"
      ]
     },
     "execution_count": 27,
     "metadata": {},
     "output_type": "execute_result"
    }
   ],
   "source": [
    "np.sum(a), np.sum(a, axis=0), np.sum(a, axis=1) # reduce-operations reduce the whole array if no axis is specified"
   ]
  },
  {
   "cell_type": "markdown",
   "id": "ad7b8a50",
   "metadata": {},
   "source": [
    "#### Linear-algebra operations"
   ]
  },
  {
   "cell_type": "code",
   "execution_count": 28,
   "id": "0f5a0e17",
   "metadata": {},
   "outputs": [
    {
     "data": {
      "text/plain": [
       "array([[ 8.,  5.],\n",
       "       [28., 19.]])"
      ]
     },
     "execution_count": 28,
     "metadata": {},
     "output_type": "execute_result"
    }
   ],
   "source": [
    "np.dot(a, b) # matrix multiplication"
   ]
  },
  {
   "cell_type": "code",
   "execution_count": 29,
   "id": "29607592",
   "metadata": {},
   "outputs": [
    {
     "data": {
      "text/plain": [
       "True"
      ]
     },
     "execution_count": 29,
     "metadata": {},
     "output_type": "execute_result"
    }
   ],
   "source": [
    "# Other ways of writing matrix multiplication, the '@' operator for matrix multiplication\n",
    "# was introduced in Python 3.5\n",
    "np.allclose(a.dot(b), a @ b)"
   ]
  },
  {
   "cell_type": "code",
   "execution_count": 30,
   "id": "d7147cf4",
   "metadata": {},
   "outputs": [
    {
     "data": {
      "text/plain": [
       "(array([-1.,  6.]),\n",
       " array([[-0.70710678, -0.37139068],\n",
       "        [ 0.70710678, -0.92847669]]))"
      ]
     },
     "execution_count": 30,
     "metadata": {},
     "output_type": "execute_result"
    }
   ],
   "source": [
    "# For other linear algebra operations, use the np.linalg module\n",
    "np.linalg.eig(a)  # Eigen-decomposition"
   ]
  },
  {
   "cell_type": "code",
   "execution_count": 31,
   "id": "c5571b22",
   "metadata": {},
   "outputs": [
    {
     "name": "stdout",
     "output_type": "stream",
     "text": [
      "[[-0.66666667  0.33333333]\n",
      " [ 0.83333333 -0.16666667]]\n"
     ]
    },
    {
     "data": {
      "text/plain": [
       "True"
      ]
     },
     "execution_count": 31,
     "metadata": {},
     "output_type": "execute_result"
    }
   ],
   "source": [
    "print(np.linalg.inv(a))  # Inverse\n",
    "np.allclose(np.linalg.inv(a) @ a, np.identity(a.shape[1]))  # a^-1 * a = Id"
   ]
  },
  {
   "cell_type": "code",
   "execution_count": 32,
   "id": "74aefccd",
   "metadata": {},
   "outputs": [
    {
     "data": {
      "text/plain": [
       "array([0.33333333, 0.08333333])"
      ]
     },
     "execution_count": 32,
     "metadata": {},
     "output_type": "execute_result"
    }
   ],
   "source": [
    "np.linalg.solve(a, v) # solves ax = v"
   ]
  },
  {
   "cell_type": "markdown",
   "id": "a52d59fe",
   "metadata": {},
   "source": [
    "#### Grouping operations\n",
    "\n",
    "Grouping operations (`np.stack`, `np.hstack`, `np.vstack`, `np.concatenate`) take an iterable of ndarrays and not ndarrays as separate arguments : np.concatenate([a,b]) and not np.concatenate(a,b)."
   ]
  },
  {
   "cell_type": "code",
   "execution_count": 33,
   "id": "55a95122",
   "metadata": {},
   "outputs": [
    {
     "data": {
      "text/plain": [
       "array([[1., 2., 4., 3.],\n",
       "       [5., 4., 2., 1.]])"
      ]
     },
     "execution_count": 33,
     "metadata": {},
     "output_type": "execute_result"
    }
   ],
   "source": [
    "np.hstack([a, b])"
   ]
  },
  {
   "cell_type": "code",
   "execution_count": 34,
   "id": "3deeeb86",
   "metadata": {},
   "outputs": [
    {
     "data": {
      "text/plain": [
       "array([[1., 2.],\n",
       "       [5., 4.],\n",
       "       [4., 3.],\n",
       "       [2., 1.]])"
      ]
     },
     "execution_count": 34,
     "metadata": {},
     "output_type": "execute_result"
    }
   ],
   "source": [
    "np.vstack([a, b])"
   ]
  },
  {
   "cell_type": "code",
   "execution_count": 35,
   "id": "be4e4f07",
   "metadata": {},
   "outputs": [
    {
     "data": {
      "text/plain": [
       "array([[1.5, 4. ],\n",
       "       [5.5, 6. ],\n",
       "       [4.5, 5. ],\n",
       "       [2.5, 3. ]])"
      ]
     },
     "execution_count": 35,
     "metadata": {},
     "output_type": "execute_result"
    }
   ],
   "source": [
    "np.vstack([a, b]) + v # broadcasting"
   ]
  },
  {
   "cell_type": "code",
   "execution_count": 36,
   "id": "3dbe2363",
   "metadata": {},
   "outputs": [
    {
     "ename": "ValueError",
     "evalue": "operands could not be broadcast together with shapes (2,4) (2,) ",
     "output_type": "error",
     "traceback": [
      "\u001b[0;31m---------------------------------------------------------------------------\u001b[0m",
      "\u001b[0;31mValueError\u001b[0m                                Traceback (most recent call last)",
      "\u001b[0;32m/tmp/ipykernel_31344/11420762.py\u001b[0m in \u001b[0;36m<module>\u001b[0;34m\u001b[0m\n\u001b[0;32m----> 1\u001b[0;31m \u001b[0mnp\u001b[0m\u001b[0;34m.\u001b[0m\u001b[0mhstack\u001b[0m\u001b[0;34m(\u001b[0m\u001b[0;34m[\u001b[0m\u001b[0ma\u001b[0m\u001b[0;34m,\u001b[0m \u001b[0mb\u001b[0m\u001b[0;34m]\u001b[0m\u001b[0;34m)\u001b[0m \u001b[0;34m+\u001b[0m \u001b[0mv\u001b[0m \u001b[0;31m# does not work\u001b[0m\u001b[0;34m\u001b[0m\u001b[0;34m\u001b[0m\u001b[0m\n\u001b[0m",
      "\u001b[0;31mValueError\u001b[0m: operands could not be broadcast together with shapes (2,4) (2,) "
     ]
    }
   ],
   "source": [
    "np.hstack([a, b]) + v # does not work"
   ]
  },
  {
   "cell_type": "code",
   "execution_count": null,
   "id": "831de440",
   "metadata": {},
   "outputs": [],
   "source": [
    "np.hstack([a, b]) + v.T # transposing a 1-D array achieves nothing"
   ]
  },
  {
   "cell_type": "code",
   "execution_count": null,
   "id": "ecb89419",
   "metadata": {},
   "outputs": [],
   "source": [
    "np.hstack([a, b]) + v.reshape((-1, 1)) # reshaping to convert v from a (2,) vector to a (2,1) matrix"
   ]
  },
  {
   "cell_type": "code",
   "execution_count": null,
   "id": "7d14df1e",
   "metadata": {},
   "outputs": [],
   "source": [
    "np.hstack([a, b]) + v[:, np.newaxis] # equivalently, we can add an axis"
   ]
  },
  {
   "cell_type": "markdown",
   "id": "1f22636f",
   "metadata": {},
   "source": [
    "## Working on subset of the elements\n",
    "\n",
    "We have two ways in order to apply operations on subparts of arrays (besides slicing).\n",
    "\n",
    "#### Slicing reminders"
   ]
  },
  {
   "cell_type": "code",
   "execution_count": null,
   "id": "8d7e4477",
   "metadata": {},
   "outputs": [],
   "source": [
    "r = np.random.randint(0, 10, size=(3, 4))"
   ]
  },
  {
   "cell_type": "code",
   "execution_count": null,
   "id": "f1f3a770",
   "metadata": {},
   "outputs": [],
   "source": [
    "r"
   ]
  },
  {
   "cell_type": "code",
   "execution_count": null,
   "id": "dbdc9e2c",
   "metadata": {},
   "outputs": [],
   "source": [
    "r[0], r[1]"
   ]
  },
  {
   "cell_type": "code",
   "execution_count": null,
   "id": "bac08106",
   "metadata": {},
   "outputs": [],
   "source": [
    "r[0:2]"
   ]
  },
  {
   "cell_type": "code",
   "execution_count": null,
   "id": "d1a1c7f3",
   "metadata": {},
   "outputs": [],
   "source": [
    "r[1][2] # regular python"
   ]
  },
  {
   "cell_type": "code",
   "execution_count": null,
   "id": "25ba516f",
   "metadata": {},
   "outputs": [],
   "source": [
    "r[1, 2] # numpy"
   ]
  },
  {
   "cell_type": "code",
   "execution_count": null,
   "id": "5c035f7d",
   "metadata": {},
   "outputs": [],
   "source": [
    "r[:, 1:3]"
   ]
  },
  {
   "cell_type": "markdown",
   "id": "e1f0c69b",
   "metadata": {},
   "source": [
    "#### Binary masks\n",
    "\n",
    "Using logical operations on arrays give a binary mask. Using a binary mask as indexing acts as a filter and outputs just the very elements where the value is True. This gives a memoryview of the array that can get modified."
   ]
  },
  {
   "cell_type": "code",
   "execution_count": null,
   "id": "e82fa5e8",
   "metadata": {},
   "outputs": [],
   "source": [
    "r > 5  # Binary element-wise result"
   ]
  },
  {
   "cell_type": "code",
   "execution_count": null,
   "id": "c0270d16",
   "metadata": {},
   "outputs": [],
   "source": [
    "r[r > 5]  # Use the binary mask as filter"
   ]
  },
  {
   "cell_type": "code",
   "execution_count": null,
   "id": "d2070092",
   "metadata": {},
   "outputs": [],
   "source": [
    "r[r > 5] = 999  # Modify the corresponding values with a constant"
   ]
  },
  {
   "cell_type": "code",
   "execution_count": null,
   "id": "03b13577",
   "metadata": {},
   "outputs": [],
   "source": [
    "r"
   ]
  },
  {
   "cell_type": "markdown",
   "id": "aadd350b",
   "metadata": {},
   "source": [
    "#### Working with indices\n",
    "\n",
    "The second way to work on subpart of arrays are through indices. Usually you'd use one array per dimension with matching indices.\n",
    "\n",
    "**WARNING** : indices are usually slower than binary masks because it is harder to be parallelized by the underlying BLAS library."
   ]
  },
  {
   "cell_type": "code",
   "execution_count": null,
   "id": "b3ecdec0",
   "metadata": {},
   "outputs": [],
   "source": [
    "# Get the indices where the condition is true, gives a tuple whose length\n",
    "# is the number of dimensions of the input array\n",
    "np.where(r == 999)"
   ]
  },
  {
   "cell_type": "code",
   "execution_count": null,
   "id": "42349392",
   "metadata": {},
   "outputs": [],
   "source": [
    "print(np.where(np.arange(10) < 5))  # Is a 1-tuple\n",
    "np.where(np.arange(10) < 5)[0]  # Accessing the first element gives the indices array"
   ]
  },
  {
   "cell_type": "code",
   "execution_count": null,
   "id": "35b16601",
   "metadata": {},
   "outputs": [],
   "source": [
    "np.where(r == 999, -10, r+1000)  # Ternary condition, if True take element from first array, otherwise from second"
   ]
  },
  {
   "cell_type": "code",
   "execution_count": null,
   "id": "ca4a9849",
   "metadata": {},
   "outputs": [],
   "source": [
    "r[(np.array([1,2]), np.array([2,2]))]  # Gets the view corresponding to the indices. NB : iterable of arrays as indexing"
   ]
  },
  {
   "cell_type": "markdown",
   "id": "1146765f",
   "metadata": {},
   "source": [
    "# Working with arrays, examples\n",
    "\n",
    "Thanks to all these tools, you should be able to avoid writing almost any for-loops which are extremely costly in Python (even more than in Matlab, because good JIT engines are yet to come). In case you **really** need for-loops for array computation (usually not needed but it happens) have a look at http://numba.pydata.org/ (_For advanced users_)\n",
    "\n",
    "#### Counting the number of positive elements that satisfy a condition"
   ]
  },
  {
   "cell_type": "code",
   "execution_count": null,
   "id": "dd0ab048",
   "metadata": {},
   "outputs": [],
   "source": [
    "numbers = np.random.randn(1000, 1000)"
   ]
  },
  {
   "cell_type": "code",
   "execution_count": null,
   "id": "14bdddc4",
   "metadata": {},
   "outputs": [],
   "source": [
    "%%timeit  # Naive version\n",
    "my_sum = 0\n",
    "for n in numbers.ravel():\n",
    "    if n>0:\n",
    "        my_sum += 1"
   ]
  },
  {
   "cell_type": "code",
   "execution_count": null,
   "id": "28315c00",
   "metadata": {},
   "outputs": [],
   "source": [
    "%timeit np.sum(numbers > 0)"
   ]
  },
  {
   "cell_type": "markdown",
   "id": "1ebccbd6",
   "metadata": {},
   "source": [
    "#### Compute polynomial for a lot of values"
   ]
  },
  {
   "cell_type": "code",
   "execution_count": null,
   "id": "f0b6b5c5",
   "metadata": {},
   "outputs": [],
   "source": [
    "X = np.random.randn(10000)"
   ]
  },
  {
   "cell_type": "code",
   "execution_count": null,
   "id": "30e724e9",
   "metadata": {},
   "outputs": [],
   "source": [
    "%%timeit  # Naive version\n",
    "my_result = np.zeros(len(X))\n",
    "for i, x in enumerate(X.ravel()):\n",
    "    my_result[i] = 1 + x + x**2 + x**3 + x**4"
   ]
  },
  {
   "cell_type": "code",
   "execution_count": null,
   "id": "039230b4",
   "metadata": {},
   "outputs": [],
   "source": [
    "%timeit 1 + X + X**2 + X**3 + X**4"
   ]
  },
  {
   "cell_type": "markdown",
   "id": "63a2679b",
   "metadata": {},
   "source": [
    "## SciPy\n",
    "\n",
    "SciPy is a collection of libraries more specialized than Numpy. It is the equivalent of toolboxes in Matlab.\n",
    "\n",
    "Have a look at their collection: http://docs.scipy.org/doc/scipy/reference/\n",
    "\n",
    "Many traditionnal functions are coded there."
   ]
  },
  {
   "cell_type": "code",
   "execution_count": null,
   "id": "a4cbc146",
   "metadata": {},
   "outputs": [],
   "source": [
    "X = np.random.randn(1000)"
   ]
  },
  {
   "cell_type": "code",
   "execution_count": null,
   "id": "c0f890e5",
   "metadata": {},
   "outputs": [],
   "source": [
    "from scipy.fftpack import fft\n",
    "plt.plot(fft(X).real)"
   ]
  },
  {
   "cell_type": "code",
   "execution_count": null,
   "id": "2a44b512",
   "metadata": {},
   "outputs": [],
   "source": []
  }
 ],
 "metadata": {
  "jupytext": {
   "text_representation": {
    "extension": ".md",
    "format_name": "myst",
    "format_version": 0.13,
    "jupytext_version": "1.11.5"
   }
  },
  "kernelspec": {
   "display_name": "Python 3",
   "language": "python",
   "name": "python3"
  },
  "language_info": {
   "codemirror_mode": {
    "name": "ipython",
    "version": 3
   },
   "file_extension": ".py",
   "mimetype": "text/x-python",
   "name": "python",
   "nbconvert_exporter": "python",
   "pygments_lexer": "ipython3",
   "version": "3.9.9"
  },
  "source_map": [
   12,
   27,
   37,
   44,
   48,
   52,
   56,
   63,
   69,
   75,
   80,
   86,
   88,
   100,
   104,
   108,
   112,
   116,
   120,
   124,
   136,
   140,
   146,
   150,
   157,
   162,
   168,
   172,
   176,
   180,
   186,
   190,
   200,
   206,
   212,
   222,
   224,
   230,
   232,
   236,
   240,
   246,
   251,
   256,
   258,
   264,
   268,
   272,
   276,
   280,
   284,
   288,
   290,
   298,
   302,
   306,
   310,
   314,
   318,
   322,
   324,
   330,
   334,
   338,
   342,
   344,
   352,
   358,
   363,
   367,
   369,
   377,
   381,
   389,
   391,
   395,
   399,
   406,
   408,
   418,
   422,
   427
  ]
 },
 "nbformat": 4,
 "nbformat_minor": 5
}